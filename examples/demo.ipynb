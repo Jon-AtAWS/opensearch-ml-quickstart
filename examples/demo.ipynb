{
 "cells": [
  {
   "cell_type": "code",
   "execution_count": 13,
   "metadata": {},
   "outputs": [],
   "source": [
    "import os\n",
    "import sys\n",
    "import json\n",
    "import logging\n",
    "from typing import Dict"
   ]
  },
  {
   "cell_type": "code",
   "execution_count": 15,
   "metadata": {},
   "outputs": [
    {
     "ename": "ImportError",
     "evalue": "cannot import name 'QANDA_FILE_READER_PATH' from 'configs' (/home/ec2-user/Code/opensearch-ml-quickstart/configs/__init__.py)",
     "output_type": "error",
     "traceback": [
      "\u001b[0;31m---------------------------------------------------------------------------\u001b[0m",
      "\u001b[0;31mImportError\u001b[0m                               Traceback (most recent call last)",
      "Cell \u001b[0;32mIn[15], line 2\u001b[0m\n\u001b[1;32m      1\u001b[0m sys\u001b[38;5;241m.\u001b[39mpath\u001b[38;5;241m.\u001b[39mappend(os\u001b[38;5;241m.\u001b[39mpath\u001b[38;5;241m.\u001b[39mdirname(os\u001b[38;5;241m.\u001b[39mgetcwd()))\n\u001b[0;32m----> 2\u001b[0m \u001b[38;5;28;01mfrom\u001b[39;00m \u001b[38;5;21;01mconfigs\u001b[39;00m \u001b[38;5;28;01mimport\u001b[39;00m BASE_MAPPING_PATH, QANDA_FILE_READER_PATH\n\u001b[1;32m      3\u001b[0m \u001b[38;5;28;01mfrom\u001b[39;00m \u001b[38;5;21;01mclient\u001b[39;00m \u001b[38;5;28;01mimport\u001b[39;00m (\n\u001b[1;32m      4\u001b[0m     OsMlClientWrapper,\n\u001b[1;32m      5\u001b[0m     get_client,\n\u001b[1;32m      6\u001b[0m )\n\u001b[1;32m      7\u001b[0m \u001b[38;5;28;01mfrom\u001b[39;00m \u001b[38;5;21;01mdata_process\u001b[39;00m \u001b[38;5;28;01mimport\u001b[39;00m QAndAFileReader\n",
      "\u001b[0;31mImportError\u001b[0m: cannot import name 'QANDA_FILE_READER_PATH' from 'configs' (/home/ec2-user/Code/opensearch-ml-quickstart/configs/__init__.py)"
     ]
    }
   ],
   "source": [
    "sys.path.append(os.path.dirname(os.getcwd()))\n",
    "from configs import BASE_MAPPING_PATH, QANDA_FILE_READER_PATH\n",
    "from client import (\n",
    "    OsMlClientWrapper,\n",
    "    get_client,\n",
    ")\n",
    "from data_process import QAndAFileReader\n",
    "from mapping import get_base_mapping\n",
    "from main import load_category"
   ]
  },
  {
   "cell_type": "code",
   "execution_count": null,
   "metadata": {},
   "outputs": [],
   "source": [
    "def load_dataset_lexical(\n",
    "    client: OsMlClientWrapper,\n",
    "    pqa_reader: QAndAFileReader,\n",
    "    config: Dict[str, str],\n",
    "    delete_existing: bool,\n",
    "    index_name: str,\n",
    "):\n",
    "    if delete_existing:\n",
    "        logging.info(f\"Deleting existing index {index_name}\")\n",
    "        client.delete_then_create_index(\n",
    "            index_name=config[\"index_name\"], settings=config[\"index_settings\"]\n",
    "        )\n",
    "\n",
    "    logging.info(\"Setting up without KNN\")\n",
    "    client.setup_without_kNN(\n",
    "        index_name=config[\"index_name\"],\n",
    "        index_settings=config[\"index_settings\"],\n",
    "    )\n",
    "\n",
    "    for category in config[\"categories\"]:\n",
    "        load_category(\n",
    "            client=client.os_client,\n",
    "            pqa_reader=pqa_reader,\n",
    "            category=category,\n",
    "            config=config,\n",
    "        )"
   ]
  },
  {
   "cell_type": "code",
   "execution_count": null,
   "metadata": {},
   "outputs": [],
   "source": [
    "host_type = \"aos\"\n",
    "index_name = \"lexical_search\"\n",
    "dataset_path = QANDA_FILE_READER_PATH\n",
    "number_of_docs = 500\n",
    "client = OsMlClientWrapper(get_client(host_type))\n",
    "\n",
    "pqa_reader = QAndAFileReader(\n",
    "    directory=dataset_path, max_number_of_docs=number_of_docs\n",
    ")\n",
    "\n",
    "categories = [\"sheet and pillowcase sets\"]\n",
    "\n",
    "config = {\n",
    "    \"categories\": categories,\n",
    "    \"index_name\": index_name,\n",
    "    \"index_settings\": get_base_mapping(BASE_MAPPING_PATH),\n",
    "}\n",
    "\n",
    "logging.info(f\"Config:\\n {json.dumps(config, indent=4)}\")\n",
    "\n",
    "load_dataset_lexical(\n",
    "    client,\n",
    "    pqa_reader,\n",
    "    config,\n",
    "    delete_existing=True,\n",
    "    index_name=index_name,\n",
    ")"
   ]
  },
  {
   "cell_type": "code",
   "execution_count": null,
   "metadata": {},
   "outputs": [],
   "source": [
    "query_text = \"I wish to sleep well\"\n",
    "search_query = {\n",
    "    \"_source\": {\"include\": \"chunk\"},\n",
    "    \"query\": {\"match\": {\"chunk\": query_text}},\n",
    "}"
   ]
  },
  {
   "cell_type": "code",
   "execution_count": null,
   "metadata": {},
   "outputs": [],
   "source": [
    "\n",
    "search_results = client.os_client.search(index=index_name, body=search_query)\n",
    "hits = search_results[\"hits\"][\"hits\"]\n",
    "hits = [hit[\"_source\"][\"chunk\"] for hit in hits]\n",
    "hits = list(set(hits))\n",
    "for i, hit in enumerate(hits):\n",
    "    print(f\"{i + 1}th search result:\\n {hit}\")"
   ]
  },
  {
   "cell_type": "code",
   "execution_count": null,
   "metadata": {},
   "outputs": [],
   "source": [
    "index_name = \"dense_exact_search\"\n",
    "search_query = {\n",
    "    \"_source\": {\"include\": \"chunk\"},\n",
    "    \"query\": {\n",
    "        \"neural\": {\n",
    "            \"chunk_embedding\": {\n",
    "                \"query_text\": query_text,\n",
    "                \"model_id\": \"twKE_pUBdIibWvQqbhrY\",\n",
    "            }\n",
    "        }\n",
    "    },\n",
    "}"
   ]
  },
  {
   "cell_type": "code",
   "execution_count": null,
   "metadata": {},
   "outputs": [],
   "source": [
    "search_results = client.os_client.search(index=index_name, body=search_query)\n",
    "hits = search_results[\"hits\"][\"hits\"]\n",
    "hits = [hit[\"_source\"][\"chunk\"] for hit in hits]\n",
    "hits = list(set(hits))\n",
    "for i, hit in enumerate(hits):\n",
    "    print(f\"{i + 1}th search result:\\n {hit}\")"
   ]
  }
 ],
 "metadata": {
  "kernelspec": {
   "display_name": "base",
   "language": "python",
   "name": "python3"
  },
  "language_info": {
   "codemirror_mode": {
    "name": "ipython",
    "version": 3
   },
   "file_extension": ".py",
   "mimetype": "text/x-python",
   "name": "python",
   "nbconvert_exporter": "python",
   "pygments_lexer": "ipython3",
   "version": "3.11.7"
  }
 },
 "nbformat": 4,
 "nbformat_minor": 2
}
